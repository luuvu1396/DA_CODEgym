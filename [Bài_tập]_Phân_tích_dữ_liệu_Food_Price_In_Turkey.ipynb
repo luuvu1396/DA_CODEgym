{
  "nbformat": 4,
  "nbformat_minor": 0,
  "metadata": {
    "colab": {
      "provenance": [],
      "authorship_tag": "ABX9TyN6qPD4jufLll50/2VoLUz5",
      "include_colab_link": true
    },
    "kernelspec": {
      "name": "python3",
      "display_name": "Python 3"
    },
    "language_info": {
      "name": "python"
    }
  },
  "cells": [
    {
      "cell_type": "markdown",
      "metadata": {
        "id": "view-in-github",
        "colab_type": "text"
      },
      "source": [
        "<a href=\"https://colab.research.google.com/github/luuvu1396/DA_CODEgym/blob/main/%5BB%C3%A0i_t%E1%BA%ADp%5D_Ph%C3%A2n_t%C3%ADch_d%E1%BB%AF_li%E1%BB%87u_Food_Price_In_Turkey.ipynb\" target=\"_parent\"><img src=\"https://colab.research.google.com/assets/colab-badge.svg\" alt=\"Open In Colab\"/></a>"
      ]
    },
    {
      "cell_type": "code",
      "execution_count": null,
      "metadata": {
        "id": "MRtoKr57wBeN"
      },
      "outputs": [],
      "source": [
        "import pandas as pd\n",
        "import numpy as np\n",
        "data = pd.read_csv('/content/FoodPrice_in_Turkey.csv',encoding= 'UTF-8')"
      ]
    },
    {
      "cell_type": "code",
      "source": [
        "data.head()"
      ],
      "metadata": {
        "colab": {
          "base_uri": "https://localhost:8080/",
          "height": 206
        },
        "id": "HfxBrg3RxqAM",
        "outputId": "24c50dbf-7175-4081-e611-a75354d28dca"
      },
      "execution_count": null,
      "outputs": [
        {
          "output_type": "execute_result",
          "data": {
            "text/plain": [
              "              Place  ProductId    ProductName  UmId UmName  Month  Year  \\\n",
              "0  National Average         52  Rice - Retail     5     KG      5  2013   \n",
              "1  National Average         52  Rice - Retail     5     KG      6  2013   \n",
              "2  National Average         52  Rice - Retail     5     KG     11  2013   \n",
              "3  National Average         52  Rice - Retail     5     KG     12  2013   \n",
              "4  National Average         52  Rice - Retail     5     KG      1  2014   \n",
              "\n",
              "    Price  \n",
              "0  4.4920  \n",
              "1  4.5786  \n",
              "2  4.7865  \n",
              "3  5.1337  \n",
              "4  5.5099  "
            ],
            "text/html": [
              "\n",
              "  <div id=\"df-d012229e-d01d-4017-ba22-392889abb999\">\n",
              "    <div class=\"colab-df-container\">\n",
              "      <div>\n",
              "<style scoped>\n",
              "    .dataframe tbody tr th:only-of-type {\n",
              "        vertical-align: middle;\n",
              "    }\n",
              "\n",
              "    .dataframe tbody tr th {\n",
              "        vertical-align: top;\n",
              "    }\n",
              "\n",
              "    .dataframe thead th {\n",
              "        text-align: right;\n",
              "    }\n",
              "</style>\n",
              "<table border=\"1\" class=\"dataframe\">\n",
              "  <thead>\n",
              "    <tr style=\"text-align: right;\">\n",
              "      <th></th>\n",
              "      <th>Place</th>\n",
              "      <th>ProductId</th>\n",
              "      <th>ProductName</th>\n",
              "      <th>UmId</th>\n",
              "      <th>UmName</th>\n",
              "      <th>Month</th>\n",
              "      <th>Year</th>\n",
              "      <th>Price</th>\n",
              "    </tr>\n",
              "  </thead>\n",
              "  <tbody>\n",
              "    <tr>\n",
              "      <th>0</th>\n",
              "      <td>National Average</td>\n",
              "      <td>52</td>\n",
              "      <td>Rice - Retail</td>\n",
              "      <td>5</td>\n",
              "      <td>KG</td>\n",
              "      <td>5</td>\n",
              "      <td>2013</td>\n",
              "      <td>4.4920</td>\n",
              "    </tr>\n",
              "    <tr>\n",
              "      <th>1</th>\n",
              "      <td>National Average</td>\n",
              "      <td>52</td>\n",
              "      <td>Rice - Retail</td>\n",
              "      <td>5</td>\n",
              "      <td>KG</td>\n",
              "      <td>6</td>\n",
              "      <td>2013</td>\n",
              "      <td>4.5786</td>\n",
              "    </tr>\n",
              "    <tr>\n",
              "      <th>2</th>\n",
              "      <td>National Average</td>\n",
              "      <td>52</td>\n",
              "      <td>Rice - Retail</td>\n",
              "      <td>5</td>\n",
              "      <td>KG</td>\n",
              "      <td>11</td>\n",
              "      <td>2013</td>\n",
              "      <td>4.7865</td>\n",
              "    </tr>\n",
              "    <tr>\n",
              "      <th>3</th>\n",
              "      <td>National Average</td>\n",
              "      <td>52</td>\n",
              "      <td>Rice - Retail</td>\n",
              "      <td>5</td>\n",
              "      <td>KG</td>\n",
              "      <td>12</td>\n",
              "      <td>2013</td>\n",
              "      <td>5.1337</td>\n",
              "    </tr>\n",
              "    <tr>\n",
              "      <th>4</th>\n",
              "      <td>National Average</td>\n",
              "      <td>52</td>\n",
              "      <td>Rice - Retail</td>\n",
              "      <td>5</td>\n",
              "      <td>KG</td>\n",
              "      <td>1</td>\n",
              "      <td>2014</td>\n",
              "      <td>5.5099</td>\n",
              "    </tr>\n",
              "  </tbody>\n",
              "</table>\n",
              "</div>\n",
              "      <button class=\"colab-df-convert\" onclick=\"convertToInteractive('df-d012229e-d01d-4017-ba22-392889abb999')\"\n",
              "              title=\"Convert this dataframe to an interactive table.\"\n",
              "              style=\"display:none;\">\n",
              "        \n",
              "  <svg xmlns=\"http://www.w3.org/2000/svg\" height=\"24px\"viewBox=\"0 0 24 24\"\n",
              "       width=\"24px\">\n",
              "    <path d=\"M0 0h24v24H0V0z\" fill=\"none\"/>\n",
              "    <path d=\"M18.56 5.44l.94 2.06.94-2.06 2.06-.94-2.06-.94-.94-2.06-.94 2.06-2.06.94zm-11 1L8.5 8.5l.94-2.06 2.06-.94-2.06-.94L8.5 2.5l-.94 2.06-2.06.94zm10 10l.94 2.06.94-2.06 2.06-.94-2.06-.94-.94-2.06-.94 2.06-2.06.94z\"/><path d=\"M17.41 7.96l-1.37-1.37c-.4-.4-.92-.59-1.43-.59-.52 0-1.04.2-1.43.59L10.3 9.45l-7.72 7.72c-.78.78-.78 2.05 0 2.83L4 21.41c.39.39.9.59 1.41.59.51 0 1.02-.2 1.41-.59l7.78-7.78 2.81-2.81c.8-.78.8-2.07 0-2.86zM5.41 20L4 18.59l7.72-7.72 1.47 1.35L5.41 20z\"/>\n",
              "  </svg>\n",
              "      </button>\n",
              "      \n",
              "  <style>\n",
              "    .colab-df-container {\n",
              "      display:flex;\n",
              "      flex-wrap:wrap;\n",
              "      gap: 12px;\n",
              "    }\n",
              "\n",
              "    .colab-df-convert {\n",
              "      background-color: #E8F0FE;\n",
              "      border: none;\n",
              "      border-radius: 50%;\n",
              "      cursor: pointer;\n",
              "      display: none;\n",
              "      fill: #1967D2;\n",
              "      height: 32px;\n",
              "      padding: 0 0 0 0;\n",
              "      width: 32px;\n",
              "    }\n",
              "\n",
              "    .colab-df-convert:hover {\n",
              "      background-color: #E2EBFA;\n",
              "      box-shadow: 0px 1px 2px rgba(60, 64, 67, 0.3), 0px 1px 3px 1px rgba(60, 64, 67, 0.15);\n",
              "      fill: #174EA6;\n",
              "    }\n",
              "\n",
              "    [theme=dark] .colab-df-convert {\n",
              "      background-color: #3B4455;\n",
              "      fill: #D2E3FC;\n",
              "    }\n",
              "\n",
              "    [theme=dark] .colab-df-convert:hover {\n",
              "      background-color: #434B5C;\n",
              "      box-shadow: 0px 1px 3px 1px rgba(0, 0, 0, 0.15);\n",
              "      filter: drop-shadow(0px 1px 2px rgba(0, 0, 0, 0.3));\n",
              "      fill: #FFFFFF;\n",
              "    }\n",
              "  </style>\n",
              "\n",
              "      <script>\n",
              "        const buttonEl =\n",
              "          document.querySelector('#df-d012229e-d01d-4017-ba22-392889abb999 button.colab-df-convert');\n",
              "        buttonEl.style.display =\n",
              "          google.colab.kernel.accessAllowed ? 'block' : 'none';\n",
              "\n",
              "        async function convertToInteractive(key) {\n",
              "          const element = document.querySelector('#df-d012229e-d01d-4017-ba22-392889abb999');\n",
              "          const dataTable =\n",
              "            await google.colab.kernel.invokeFunction('convertToInteractive',\n",
              "                                                     [key], {});\n",
              "          if (!dataTable) return;\n",
              "\n",
              "          const docLinkHtml = 'Like what you see? Visit the ' +\n",
              "            '<a target=\"_blank\" href=https://colab.research.google.com/notebooks/data_table.ipynb>data table notebook</a>'\n",
              "            + ' to learn more about interactive tables.';\n",
              "          element.innerHTML = '';\n",
              "          dataTable['output_type'] = 'display_data';\n",
              "          await google.colab.output.renderOutput(dataTable, element);\n",
              "          const docLink = document.createElement('div');\n",
              "          docLink.innerHTML = docLinkHtml;\n",
              "          element.appendChild(docLink);\n",
              "        }\n",
              "      </script>\n",
              "    </div>\n",
              "  </div>\n",
              "  "
            ]
          },
          "metadata": {},
          "execution_count": 3
        }
      ]
    },
    {
      "cell_type": "code",
      "source": [
        "# Place: Nơi bán -> norminal\n",
        "# ProductID: Mã sản phẩm -> norminal\n",
        "# ProductName: Tên sản phẩm -> norminal\n",
        "# UmId: Mã đơn vị đo lường -> norminal\n",
        "# UmName: Tên đơn vị đo lường -> norminal\n",
        "# Month: Tháng -> datetime (interval)\n",
        "# Year: Năm -> datetime (interval)\n",
        "# Price: Giá -> ratio"
      ],
      "metadata": {
        "id": "--972UdrxzAb"
      },
      "execution_count": null,
      "outputs": []
    },
    {
      "cell_type": "code",
      "source": [
        "data.shape"
      ],
      "metadata": {
        "colab": {
          "base_uri": "https://localhost:8080/"
        },
        "id": "hgedk1z-yQND",
        "outputId": "f60d5c4d-5928-47c1-f223-bf7ef33f9467"
      },
      "execution_count": null,
      "outputs": [
        {
          "output_type": "execute_result",
          "data": {
            "text/plain": [
              "(7381, 8)"
            ]
          },
          "metadata": {},
          "execution_count": 4
        }
      ]
    },
    {
      "cell_type": "code",
      "source": [
        "print('Bộ dữ liệu chứa ' + str(data.shape[0]) + ' dòng')\n",
        "print('Bộ dữ liệu chứa ' + str(data.shape[1]) + ' cột')"
      ],
      "metadata": {
        "colab": {
          "base_uri": "https://localhost:8080/"
        },
        "id": "U8u6i1JHyXil",
        "outputId": "feb090fc-b175-4f8a-f2b9-9379a41648cc"
      },
      "execution_count": null,
      "outputs": [
        {
          "output_type": "stream",
          "name": "stdout",
          "text": [
            "Bộ dữ liệu chứa 7381 dòng\n",
            "Bộ dữ liệu chứa 8 cột\n"
          ]
        }
      ]
    },
    {
      "cell_type": "code",
      "source": [
        "data.info()"
      ],
      "metadata": {
        "colab": {
          "base_uri": "https://localhost:8080/"
        },
        "id": "Fa_WaYH-zUwi",
        "outputId": "67a993c2-c7de-4587-9218-8d437ec90b83"
      },
      "execution_count": null,
      "outputs": [
        {
          "output_type": "stream",
          "name": "stdout",
          "text": [
            "<class 'pandas.core.frame.DataFrame'>\n",
            "RangeIndex: 7381 entries, 0 to 7380\n",
            "Data columns (total 8 columns):\n",
            " #   Column       Non-Null Count  Dtype  \n",
            "---  ------       --------------  -----  \n",
            " 0   Place        7381 non-null   object \n",
            " 1   ProductId    7381 non-null   int64  \n",
            " 2   ProductName  7381 non-null   object \n",
            " 3   UmId         7381 non-null   int64  \n",
            " 4   UmName       7381 non-null   object \n",
            " 5   Month        7381 non-null   int64  \n",
            " 6   Year         7381 non-null   int64  \n",
            " 7   Price        7381 non-null   float64\n",
            "dtypes: float64(1), int64(4), object(3)\n",
            "memory usage: 461.4+ KB\n"
          ]
        }
      ]
    },
    {
      "cell_type": "code",
      "source": [
        "mean_price = data.groupby('ProductName')['Price'].mean()\n",
        "mean_price"
      ],
      "metadata": {
        "colab": {
          "base_uri": "https://localhost:8080/"
        },
        "id": "Rsp712qPzUuW",
        "outputId": "d1b3fe84-d3bc-4146-ebbd-d43a7ed629ab"
      },
      "execution_count": null,
      "outputs": [
        {
          "output_type": "execute_result",
          "data": {
            "text/plain": [
              "ProductName\n",
              "Apples (red) - Retail                                       2.392193\n",
              "Apples - Retail                                             3.885039\n",
              "Bananas - Retail                                            8.224784\n",
              "Beans (white) - Retail                                      9.572830\n",
              "Bread (common) - Retail                                     4.463293\n",
              "Bread (pita) - Retail                                       2.404545\n",
              "Bulgur - Retail                                             3.516712\n",
              "Cabbage - Retail                                            1.723395\n",
              "Cauliflower - Retail                                        3.274868\n",
              "Cheese - Retail                                            25.522875\n",
              "Chickpeas - Retail                                         10.347860\n",
              "Cocoa (powder) - Retail                                    43.802339\n",
              "Coffee (instant) - Retail                                  43.295493\n",
              "Coffee - Retail                                            42.468075\n",
              "Cucumbers (greenhouse) - Retail                             2.206807\n",
              "Cucumbers - Retail                                          3.411326\n",
              "Eggplants - Retail                                          3.882645\n",
              "Eggs - Retail                                               0.505925\n",
              "Electricity - Retail                                        0.513580\n",
              "Fish (fresh) - Retail                                      22.698257\n",
              "Fuel (gas) - Retail                                        83.976703\n",
              "Fuel (petrol-gasoline) - Retail                             8.592519\n",
              "Garlic - Retail                                            16.610370\n",
              "Groundnuts (shelled) - Retail                              21.832122\n",
              "Lentils - Retail                                            6.651817\n",
              "Meat (chicken) - Retail                                     9.683471\n",
              "Meat (mutton) - Retail                                     45.557209\n",
              "Meat (veal) - Retail                                       41.270904\n",
              "Milk (pasteurized) - Retail                                 3.679687\n",
              "Milk (powder, infant formula) - Retail                    108.287696\n",
              "Oil (olive) - Retail                                       27.274547\n",
              "Oil (sunflower) - Retail                                    8.755174\n",
              "Onions - Retail                                             2.141539\n",
              "Oranges - Retail                                            3.124280\n",
              "Pasta - Retail                                              3.496637\n",
              "Peas (green, dry) - Retail                                  2.900029\n",
              "Potatoes - Retail                                           2.297231\n",
              "Rice - Retail                                               7.950325\n",
              "Salt - Retail                                               2.048213\n",
              "Spinach - Retail                                            3.240587\n",
              "Sugar - Retail                                              4.482942\n",
              "Tea (green) - Retail                                        4.137000\n",
              "Tea (herbal) - Retail                                       5.434838\n",
              "Tea - Retail                                               26.224393\n",
              "Tomatoes (paste) - Retail                                   8.085128\n",
              "Tomatoes - Retail                                           3.393658\n",
              "Transport (public) - Retail                                 2.468031\n",
              "Wage (non-qualified labour, non-agricultural) - Retail     40.548182\n",
              "Water - Retail                                              5.384253\n",
              "Wheat flour - Retail                                        3.253174\n",
              "Yogurt - Retail                                             5.364898\n",
              "Zucchini - Retail                                           3.837423\n",
              "Name: Price, dtype: float64"
            ]
          },
          "metadata": {},
          "execution_count": 17
        }
      ]
    },
    {
      "cell_type": "code",
      "source": [
        "# Đề xuất những loại phân tích mà bạn muốn biết mà bộ dữ liệu này có thể cung cấp\n",
        "# 1: 10 mặt số lượng hàng bán chạy nhất? mặt hàng có doanh thu cao nhất, thấp nhât?\n",
        "# 2: Tóp 10 mặt hàng bán chạy theo quý?\n",
        "# 3: Tóp 10 mặt hàng bán chạy theo năm?\n",
        "# 4: Tần suất bán chạy của 10 mặt hàng bán chạy nhất trong quý? trong năm?\n",
        "# 5: Tần suất mua hàng tại các thời điểm trong năm?\n"
      ],
      "metadata": {
        "id": "QUMu_K55zUl2"
      },
      "execution_count": null,
      "outputs": []
    }
  ]
}